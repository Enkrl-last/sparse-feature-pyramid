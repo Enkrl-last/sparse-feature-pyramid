{
 "cells": [
  {
   "cell_type": "code",
   "execution_count": 1,
   "id": "e104de64",
   "metadata": {},
   "outputs": [],
   "source": [
    "PYTHON_PATHS = [\"..\"]\n",
    "import sys\n",
    "for path in PYTHON_PATHS:\n",
    "    if path not in sys.path:\n",
    "        sys.path.append(path)\n",
    "import pytorch_lightning as pl\n",
    "import os\n",
    "from pytorch_lightning.utilities.parsing import AttributeDict\n",
    "from pytorch_lightning.loggers import TensorBoardLogger\n",
    "import numpy as np\n",
    "import matplotlib.pyplot as plt\n",
    "import torch\n",
    "import cv2\n",
    "import albumentations\n",
    "import torchvision.transforms as transforms\n",
    "import torchvision"
   ]
  },
  {
   "cell_type": "code",
   "execution_count": 2,
   "id": "16905e06",
   "metadata": {},
   "outputs": [],
   "source": [
    "import warnings\n",
    "warnings.filterwarnings('ignore')\n",
    "warnings.simplefilter('ignore')"
   ]
  },
  {
   "cell_type": "code",
   "execution_count": 3,
   "id": "e7959378",
   "metadata": {},
   "outputs": [],
   "source": [
    "from sparse_feature_pyramid.model import SparseFeaturePyramidAutoencoder\n",
    "from sparse_feature_pyramid.data import SevenScenesDataModule\n",
    "from sparse_feature_pyramid.utils import UniversalFactory\n",
    "from sparse_feature_pyramid.utils.clearml_figure_reporter import ClearmlFigureReporter\n",
    "\n",
    "factory = UniversalFactory([SparseFeaturePyramidAutoencoder])"
   ]
  },
  {
   "cell_type": "code",
   "execution_count": 4,
   "id": "ea605cb9",
   "metadata": {},
   "outputs": [],
   "source": [
    "from clearml import Task, Logger"
   ]
  },
  {
   "cell_type": "code",
   "execution_count": 5,
   "id": "567a289a",
   "metadata": {},
   "outputs": [
    {
     "name": "stdout",
     "output_type": "stream",
     "text": [
      "ClearML Task: created new task id=36a808eb9bb44191ba6f0510fac97270\n",
      "======> WARNING! Git diff to large to store (667kb), skipping uncommitted changes <======\n",
      "CLEARML new package available: UPGRADE to v1.1.1 is recommended!\n",
      "Release Notes:\n",
      "### Bug Fixes\n",
      "\n",
      "- Fix `Logger.report_image()` throws warning\n",
      "- Fix TensorBoard `add_image()` not being reported\n",
      "ClearML results page: https://app.community.clear.ml/projects/d9943ce0df704ec4a0feddd4bf78762f/experiments/36a808eb9bb44191ba6f0510fac97270/output/log\n"
     ]
    }
   ],
   "source": [
    "task = Task.init(project_name=\"sparse-feature-pyramid\", task_name=\"Sparse feature pyramid on local machine\",\n",
    "                 auto_connect_frameworks={'matplotlib': False, 'tensorflow': True, 'tensorboard': True, \n",
    "                                          'pytorch': True, 'xgboost': True, 'scikit': True, 'fastai': True,\n",
    "                                          'lightgbm': True, 'hydra': True})"
   ]
  },
  {
   "cell_type": "markdown",
   "id": "39234c9b",
   "metadata": {},
   "source": [
    "# Load datamodule"
   ]
  },
  {
   "cell_type": "code",
   "execution_count": 6,
   "id": "c00a6e0e",
   "metadata": {},
   "outputs": [
    {
     "name": "stdout",
     "output_type": "stream",
     "text": [
      "[ToyDataModule] - train subset size 2000\n",
      "[ToyDataModule] - validation dataset size 2000\n"
     ]
    }
   ],
   "source": [
    "data_module_parameters = {\n",
    "    \"batch_size\": 64,\n",
    "    \"num_workers\": 4,\n",
    "    \"image_size\": 128,\n",
    "    \"scene\": \"fire\",\n",
    "    \"center_crop\": True,\n",
    "    \"random_jitter\": True,\n",
    "    \"random_rotation\": True,\n",
    "    \"root_dataset_path\": \"/media/mikhail/Data3T/7scenes\"\n",
    "}\n",
    "task.connect(data_module_parameters)\n",
    "scene = data_module_parameters[\"scene\"]\n",
    "data_module = SevenScenesDataModule(**data_module_parameters)"
   ]
  },
  {
   "cell_type": "markdown",
   "id": "16085660",
   "metadata": {},
   "source": [
    "# Model"
   ]
  },
  {
   "cell_type": "code",
   "execution_count": 7,
   "id": "28a5e73a",
   "metadata": {},
   "outputs": [],
   "source": [
    "model_parameters = AttributeDict(\n",
    "    name=\"SparseFeaturePyramidAutoencoder\",\n",
    "    optimizer=AttributeDict(),\n",
    "    feature_dimensions=[8, 16, 32, 64, 128],\n",
    "    size_loss_koef=1 / 100000.,\n",
    "    input_dimension=3,\n",
    ")\n",
    "task.connect(model_parameters)\n",
    "model = factory.make_from_parameters(model_parameters)\n",
    "model.set_figure_reporter(ClearmlFigureReporter())"
   ]
  },
  {
   "cell_type": "markdown",
   "id": "c845ddb0",
   "metadata": {},
   "source": [
    "# Trainer"
   ]
  },
  {
   "cell_type": "code",
   "execution_count": 8,
   "id": "bad24bb3",
   "metadata": {},
   "outputs": [
    {
     "name": "stderr",
     "output_type": "stream",
     "text": [
      "GPU available: True, used: True\n",
      "TPU available: False, using: 0 TPU cores\n"
     ]
    }
   ],
   "source": [
    "logger_path = os.path.join(os.path.dirname(task.cache_dir), \"lightning_logs\", \"sparse_feature_pyramid\")\n",
    "trainer_parameters = {\n",
    "    \"max_epochs\": 30,\n",
    "    \"checkpoint_every_n_val_epochs\": 10,\n",
    "    \"gpus\": 1,\n",
    "    \"check_val_every_n_epoch\": 2\n",
    "}\n",
    "task.connect(trainer_parameters)\n",
    "model_checkpoint = pl.callbacks.ModelCheckpoint(monitor='val_loss',\n",
    "    every_n_val_epochs=trainer_parameters[\"checkpoint_every_n_val_epochs\"])\n",
    "trainer = factory.kwargs_function(pl.Trainer)(\n",
    "    logger=TensorBoardLogger(logger_path, name=scene),\n",
    "    callbacks=[model_checkpoint],\n",
    "    **trainer_parameters\n",
    ")"
   ]
  },
  {
   "cell_type": "code",
   "execution_count": null,
   "id": "73ce78f6",
   "metadata": {},
   "outputs": [
    {
     "name": "stderr",
     "output_type": "stream",
     "text": [
      "LOCAL_RANK: 0 - CUDA_VISIBLE_DEVICES: [0]\n",
      "\n",
      "  | Name                 | Type       | Params\n",
      "----------------------------------------------------\n",
      "0 | _encoder_blocks      | ModuleList | 294 K \n",
      "1 | _decoder_blocks      | ModuleList | 680 K \n",
      "2 | _input_convolution   | Sequential | 824   \n",
      "3 | _output_convolutions | ModuleList | 6.7 K \n",
      "4 | _mask_convolutions   | ModuleList | 2.2 K \n",
      "5 | _loss                | MSELoss    | 0     \n",
      "----------------------------------------------------\n",
      "985 K     Trainable params\n",
      "0         Non-trainable params\n",
      "985 K     Total params\n",
      "3.942     Total estimated model params size (MB)\n"
     ]
    },
    {
     "data": {
      "application/vnd.jupyter.widget-view+json": {
       "model_id": "",
       "version_major": 2,
       "version_minor": 0
      },
      "text/plain": [
       "Validation sanity check: 0it [00:00, ?it/s]"
      ]
     },
     "metadata": {},
     "output_type": "display_data"
    },
    {
     "data": {
      "application/vnd.jupyter.widget-view+json": {
       "model_id": "311bd5d05e004b2587f61fdb16b2bcb1",
       "version_major": 2,
       "version_minor": 0
      },
      "text/plain": [
       "Training: 0it [00:00, ?it/s]"
      ]
     },
     "metadata": {},
     "output_type": "display_data"
    },
    {
     "data": {
      "application/vnd.jupyter.widget-view+json": {
       "model_id": "",
       "version_major": 2,
       "version_minor": 0
      },
      "text/plain": [
       "Validating: 0it [00:00, ?it/s]"
      ]
     },
     "metadata": {},
     "output_type": "display_data"
    }
   ],
   "source": [
    "%matplotlib agg\n",
    "trainer.fit(model, data_module);"
   ]
  },
  {
   "cell_type": "markdown",
   "id": "fbfb486d",
   "metadata": {},
   "source": [
    "# Show results"
   ]
  },
  {
   "cell_type": "code",
   "execution_count": null,
   "id": "df887fa9",
   "metadata": {},
   "outputs": [],
   "source": [
    "%matplotlib inline\n",
    "batch = None\n",
    "for x in data_module.train_dataloader():\n",
    "    batch = x\n",
    "    break"
   ]
  },
  {
   "cell_type": "code",
   "execution_count": null,
   "id": "add8bea0",
   "metadata": {},
   "outputs": [],
   "source": [
    "output = model(batch[\"image\"])"
   ]
  },
  {
   "cell_type": "code",
   "execution_count": null,
   "id": "89363a3e",
   "metadata": {},
   "outputs": [],
   "source": [
    "fig, ax = plt.subplots(1, 2, dpi=200)\n",
    "output_image = output[0][0][0].detach().cpu().numpy().transpose(1, 2, 0)\n",
    "output_image = output_image * np.array(data_module._std)[None, None] + np.array(data_module._mean)[None, None]\n",
    "output_image = np.clip(output_image, 0, 1)\n",
    "ax[1].imshow(output_image)\n",
    "\n",
    "input_image = torch.nn.functional.interpolate(batch[\"image\"], size=output_image.shape[:2])\n",
    "input_image = input_image[0].detach().cpu().numpy().transpose(1, 2, 0)\n",
    "input_image = input_image * np.array(data_module._std)[None, None] + np.array(data_module._mean)[None, None]\n",
    "input_image = np.clip(input_image, 0, 1)\n",
    "ax[0].imshow(input_image)"
   ]
  },
  {
   "cell_type": "code",
   "execution_count": null,
   "id": "3e67f6d8",
   "metadata": {},
   "outputs": [],
   "source": [
    "fig, ax = plt.subplots(1, 5, dpi=200)\n",
    "for i in range(5):\n",
    "    mask = output[2][i][0][0].detach().cpu().numpy()\n",
    "    ax[i].imshow(mask, cmap=\"gray\")"
   ]
  },
  {
   "cell_type": "code",
   "execution_count": null,
   "id": "4b59d66d",
   "metadata": {},
   "outputs": [],
   "source": [
    "fig, ax = plt.subplots(1, 5, dpi=200)\n",
    "for i in range(5):\n",
    "    mask = output[3][i][0][0].detach().cpu().numpy()\n",
    "    ax[i].imshow(mask, cmap=\"gray\")"
   ]
  },
  {
   "cell_type": "code",
   "execution_count": null,
   "id": "67f644e3",
   "metadata": {},
   "outputs": [],
   "source": [
    "masked_feature_pyramid = [feature * mask for feature, mask in zip(output[1], output[2])]\n",
    "# masked_feature_pyramid = [feature * torch.where(probability > 0.3, 1., 0.) for \n",
    "#                           feature, probability in zip(output[1], output[3])]\n",
    "# masked_feature_pyramid[4] = torch.zeros_like(masked_feature_pyramid[4])\n",
    "# masked_feature_pyramid[3] = torch.zeros_like(masked_feature_pyramid[3])\n",
    "# masked_feature_pyramid[2] = torch.zeros_like(masked_feature_pyramid[2])\n",
    "# masked_feature_pyramid[1] = torch.zeros_like(masked_feature_pyramid[1])\n",
    "# masked_feature_pyramid[0] = torch.zeros_like(masked_feature_pyramid[0])\n",
    "\n",
    "x = masked_feature_pyramid[-1]\n",
    "for i in range(len(model._decoder_blocks)):\n",
    "    x = model._decoder_blocks[i](x, masked_feature_pyramid[-i - 2])\n",
    "\n",
    "output_image = model._output_convolutions[0](x)\n",
    "fig, ax = plt.subplots(1, 2, dpi=200)\n",
    "output_image = output_image[0].detach().cpu().numpy().transpose(1, 2, 0)\n",
    "output_image = output_image * np.array(data_module._std)[None, None] + np.array(data_module._mean)[None, None]\n",
    "output_image = np.clip(output_image, 0, 1)\n",
    "ax[1].imshow(output_image)\n",
    "\n",
    "input_image = torch.nn.functional.interpolate(batch[\"image\"], size=output_image.shape[:2])\n",
    "input_image = input_image[0].detach().cpu().numpy().transpose(1, 2, 0)\n",
    "input_image = input_image * np.array(data_module._std)[None, None] + np.array(data_module._mean)[None, None]\n",
    "# input_image = np.clip(input_image, 0, 1)\n",
    "ax[0].imshow(input_image)"
   ]
  },
  {
   "cell_type": "code",
   "execution_count": null,
   "id": "cd4567f6",
   "metadata": {},
   "outputs": [],
   "source": [
    "sum([torch.sum(x[0]) for x in output[3]])"
   ]
  },
  {
   "cell_type": "code",
   "execution_count": null,
   "id": "3649d1ab",
   "metadata": {},
   "outputs": [],
   "source": [
    "task.close()"
   ]
  },
  {
   "cell_type": "code",
   "execution_count": null,
   "id": "43b80163",
   "metadata": {},
   "outputs": [],
   "source": []
  }
 ],
 "metadata": {
  "kernelspec": {
   "display_name": "Python 3 (ipykernel)",
   "language": "python",
   "name": "python3"
  },
  "language_info": {
   "codemirror_mode": {
    "name": "ipython",
    "version": 3
   },
   "file_extension": ".py",
   "mimetype": "text/x-python",
   "name": "python",
   "nbconvert_exporter": "python",
   "pygments_lexer": "ipython3",
   "version": "3.9.5"
  }
 },
 "nbformat": 4,
 "nbformat_minor": 5
}
